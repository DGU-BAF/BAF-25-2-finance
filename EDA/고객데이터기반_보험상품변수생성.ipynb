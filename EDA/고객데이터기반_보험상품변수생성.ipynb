{
 "cells": [
  {
   "cell_type": "code",
   "execution_count": 2,
   "metadata": {},
   "outputs": [],
   "source": [
    "import pandas as pd\n",
    "import numpy as np\n",
    "import matplotlib.pyplot as plt \n",
    "import seaborn as sns\n",
    "\n",
    "# 한글 폰트 설정\n",
    "plt.rcParams['font.family'] = 'AppleGothic'"
   ]
  },
  {
   "cell_type": "code",
   "execution_count": 3,
   "metadata": {},
   "outputs": [
    {
     "data": {
      "text/html": [
       "<div>\n",
       "<style scoped>\n",
       "    .dataframe tbody tr th:only-of-type {\n",
       "        vertical-align: middle;\n",
       "    }\n",
       "\n",
       "    .dataframe tbody tr th {\n",
       "        vertical-align: top;\n",
       "    }\n",
       "\n",
       "    .dataframe thead th {\n",
       "        text-align: right;\n",
       "    }\n",
       "</style>\n",
       "<table border=\"1\" class=\"dataframe\">\n",
       "  <thead>\n",
       "    <tr style=\"text-align: right;\">\n",
       "      <th></th>\n",
       "      <th>individual_id</th>\n",
       "      <th>address_id</th>\n",
       "      <th>curr_ann_amt</th>\n",
       "      <th>days_tenure</th>\n",
       "      <th>cust_orig_date</th>\n",
       "      <th>date_of_birth</th>\n",
       "      <th>income</th>\n",
       "      <th>has_children</th>\n",
       "      <th>length_of_residence</th>\n",
       "      <th>home_market_value</th>\n",
       "      <th>...</th>\n",
       "      <th>cust_orig_month</th>\n",
       "      <th>cohort_group</th>\n",
       "      <th>age_at_signup</th>\n",
       "      <th>age_signup_outlier</th>\n",
       "      <th>age_at_signup_clean</th>\n",
       "      <th>signup_age_group</th>\n",
       "      <th>income_group</th>\n",
       "      <th>residence_group</th>\n",
       "      <th>is_married</th>\n",
       "      <th>region_cluster</th>\n",
       "    </tr>\n",
       "  </thead>\n",
       "  <tbody>\n",
       "    <tr>\n",
       "      <th>0</th>\n",
       "      <td>2.213000e+11</td>\n",
       "      <td>5.213000e+11</td>\n",
       "      <td>818.877997</td>\n",
       "      <td>1454.0</td>\n",
       "      <td>2018-12-09</td>\n",
       "      <td>1978-06-23</td>\n",
       "      <td>22500.0</td>\n",
       "      <td>1</td>\n",
       "      <td>15.0</td>\n",
       "      <td>50000 - 74999</td>\n",
       "      <td>...</td>\n",
       "      <td>2018-12</td>\n",
       "      <td>Old (2005-2020)</td>\n",
       "      <td>40</td>\n",
       "      <td>0</td>\n",
       "      <td>40</td>\n",
       "      <td>35-44</td>\n",
       "      <td>Low</td>\n",
       "      <td>14-15</td>\n",
       "      <td>1</td>\n",
       "      <td>0.0</td>\n",
       "    </tr>\n",
       "    <tr>\n",
       "      <th>1</th>\n",
       "      <td>2.213001e+11</td>\n",
       "      <td>5.213001e+11</td>\n",
       "      <td>974.199182</td>\n",
       "      <td>1795.0</td>\n",
       "      <td>2018-01-02</td>\n",
       "      <td>1950-05-30</td>\n",
       "      <td>27500.0</td>\n",
       "      <td>0</td>\n",
       "      <td>2.0</td>\n",
       "      <td>50000 - 74999</td>\n",
       "      <td>...</td>\n",
       "      <td>2018-01</td>\n",
       "      <td>Old (2005-2020)</td>\n",
       "      <td>67</td>\n",
       "      <td>0</td>\n",
       "      <td>67</td>\n",
       "      <td>65-74</td>\n",
       "      <td>Low</td>\n",
       "      <td>0-2</td>\n",
       "      <td>0</td>\n",
       "      <td>2.0</td>\n",
       "    </tr>\n",
       "    <tr>\n",
       "      <th>2</th>\n",
       "      <td>2.213007e+11</td>\n",
       "      <td>5.213002e+11</td>\n",
       "      <td>967.375112</td>\n",
       "      <td>4818.0</td>\n",
       "      <td>2009-09-23</td>\n",
       "      <td>1967-07-07</td>\n",
       "      <td>42500.0</td>\n",
       "      <td>0</td>\n",
       "      <td>10.0</td>\n",
       "      <td>75000 - 99999</td>\n",
       "      <td>...</td>\n",
       "      <td>2009-09</td>\n",
       "      <td>Old (2005-2020)</td>\n",
       "      <td>42</td>\n",
       "      <td>0</td>\n",
       "      <td>42</td>\n",
       "      <td>35-44</td>\n",
       "      <td>Low</td>\n",
       "      <td>6-10</td>\n",
       "      <td>1</td>\n",
       "      <td>2.0</td>\n",
       "    </tr>\n",
       "    <tr>\n",
       "      <th>3</th>\n",
       "      <td>2.213016e+11</td>\n",
       "      <td>5.213006e+11</td>\n",
       "      <td>992.409561</td>\n",
       "      <td>130.0</td>\n",
       "      <td>2022-07-25</td>\n",
       "      <td>1969-05-25</td>\n",
       "      <td>125000.0</td>\n",
       "      <td>1</td>\n",
       "      <td>6.0</td>\n",
       "      <td>175000 - 199999</td>\n",
       "      <td>...</td>\n",
       "      <td>2022-07</td>\n",
       "      <td>New (2021-2022)</td>\n",
       "      <td>53</td>\n",
       "      <td>0</td>\n",
       "      <td>53</td>\n",
       "      <td>45-54</td>\n",
       "      <td>High</td>\n",
       "      <td>6-10</td>\n",
       "      <td>1</td>\n",
       "      <td>4.0</td>\n",
       "    </tr>\n",
       "    <tr>\n",
       "      <th>4</th>\n",
       "      <td>2.213016e+11</td>\n",
       "      <td>5.213006e+11</td>\n",
       "      <td>784.633494</td>\n",
       "      <td>5896.0</td>\n",
       "      <td>2006-10-11</td>\n",
       "      <td>1972-09-25</td>\n",
       "      <td>87500.0</td>\n",
       "      <td>1</td>\n",
       "      <td>4.0</td>\n",
       "      <td>225000 - 249999</td>\n",
       "      <td>...</td>\n",
       "      <td>2006-10</td>\n",
       "      <td>Old (2005-2020)</td>\n",
       "      <td>34</td>\n",
       "      <td>0</td>\n",
       "      <td>34</td>\n",
       "      <td>25-34</td>\n",
       "      <td>Mid</td>\n",
       "      <td>3-5</td>\n",
       "      <td>1</td>\n",
       "      <td>4.0</td>\n",
       "    </tr>\n",
       "    <tr>\n",
       "      <th>...</th>\n",
       "      <td>...</td>\n",
       "      <td>...</td>\n",
       "      <td>...</td>\n",
       "      <td>...</td>\n",
       "      <td>...</td>\n",
       "      <td>...</td>\n",
       "      <td>...</td>\n",
       "      <td>...</td>\n",
       "      <td>...</td>\n",
       "      <td>...</td>\n",
       "      <td>...</td>\n",
       "      <td>...</td>\n",
       "      <td>...</td>\n",
       "      <td>...</td>\n",
       "      <td>...</td>\n",
       "      <td>...</td>\n",
       "      <td>...</td>\n",
       "      <td>...</td>\n",
       "      <td>...</td>\n",
       "      <td>...</td>\n",
       "      <td>...</td>\n",
       "    </tr>\n",
       "    <tr>\n",
       "      <th>1668789</th>\n",
       "      <td>2.213007e+11</td>\n",
       "      <td>5.213002e+11</td>\n",
       "      <td>1259.900413</td>\n",
       "      <td>803.0</td>\n",
       "      <td>2020-09-20</td>\n",
       "      <td>1967-07-07</td>\n",
       "      <td>27500.0</td>\n",
       "      <td>1</td>\n",
       "      <td>3.0</td>\n",
       "      <td>50000 - 74999</td>\n",
       "      <td>...</td>\n",
       "      <td>2020-09</td>\n",
       "      <td>Old (2005-2020)</td>\n",
       "      <td>53</td>\n",
       "      <td>0</td>\n",
       "      <td>53</td>\n",
       "      <td>45-54</td>\n",
       "      <td>Low</td>\n",
       "      <td>3-5</td>\n",
       "      <td>0</td>\n",
       "      <td>0.0</td>\n",
       "    </tr>\n",
       "    <tr>\n",
       "      <th>1668790</th>\n",
       "      <td>2.213015e+11</td>\n",
       "      <td>5.213005e+11</td>\n",
       "      <td>604.096865</td>\n",
       "      <td>3261.0</td>\n",
       "      <td>2013-12-28</td>\n",
       "      <td>1945-07-01</td>\n",
       "      <td>87500.0</td>\n",
       "      <td>0</td>\n",
       "      <td>1.0</td>\n",
       "      <td>125000 - 149999</td>\n",
       "      <td>...</td>\n",
       "      <td>2013-12</td>\n",
       "      <td>Old (2005-2020)</td>\n",
       "      <td>68</td>\n",
       "      <td>0</td>\n",
       "      <td>68</td>\n",
       "      <td>65-74</td>\n",
       "      <td>Mid</td>\n",
       "      <td>0-2</td>\n",
       "      <td>1</td>\n",
       "      <td>3.0</td>\n",
       "    </tr>\n",
       "    <tr>\n",
       "      <th>1668791</th>\n",
       "      <td>2.213026e+11</td>\n",
       "      <td>5.213009e+11</td>\n",
       "      <td>1255.570597</td>\n",
       "      <td>3403.0</td>\n",
       "      <td>2013-08-08</td>\n",
       "      <td>1981-09-22</td>\n",
       "      <td>125000.0</td>\n",
       "      <td>0</td>\n",
       "      <td>12.0</td>\n",
       "      <td>125000 - 149999</td>\n",
       "      <td>...</td>\n",
       "      <td>2013-08</td>\n",
       "      <td>Old (2005-2020)</td>\n",
       "      <td>31</td>\n",
       "      <td>0</td>\n",
       "      <td>31</td>\n",
       "      <td>25-34</td>\n",
       "      <td>High</td>\n",
       "      <td>11-13</td>\n",
       "      <td>1</td>\n",
       "      <td>0.0</td>\n",
       "    </tr>\n",
       "    <tr>\n",
       "      <th>1668792</th>\n",
       "      <td>2.213008e+11</td>\n",
       "      <td>5.213003e+11</td>\n",
       "      <td>1104.105051</td>\n",
       "      <td>1258.0</td>\n",
       "      <td>2019-06-23</td>\n",
       "      <td>1970-07-26</td>\n",
       "      <td>87500.0</td>\n",
       "      <td>1</td>\n",
       "      <td>11.0</td>\n",
       "      <td>75000 - 99999</td>\n",
       "      <td>...</td>\n",
       "      <td>2019-06</td>\n",
       "      <td>Old (2005-2020)</td>\n",
       "      <td>48</td>\n",
       "      <td>0</td>\n",
       "      <td>48</td>\n",
       "      <td>45-54</td>\n",
       "      <td>Mid</td>\n",
       "      <td>11-13</td>\n",
       "      <td>0</td>\n",
       "      <td>1.0</td>\n",
       "    </tr>\n",
       "    <tr>\n",
       "      <th>1668793</th>\n",
       "      <td>2.213016e+11</td>\n",
       "      <td>5.213006e+11</td>\n",
       "      <td>829.869558</td>\n",
       "      <td>2504.0</td>\n",
       "      <td>2016-01-24</td>\n",
       "      <td>1959-04-29</td>\n",
       "      <td>225000.0</td>\n",
       "      <td>1</td>\n",
       "      <td>4.0</td>\n",
       "      <td>200000 - 224999</td>\n",
       "      <td>...</td>\n",
       "      <td>2016-01</td>\n",
       "      <td>Old (2005-2020)</td>\n",
       "      <td>56</td>\n",
       "      <td>0</td>\n",
       "      <td>56</td>\n",
       "      <td>55-64</td>\n",
       "      <td>Very High</td>\n",
       "      <td>3-5</td>\n",
       "      <td>1</td>\n",
       "      <td>1.0</td>\n",
       "    </tr>\n",
       "  </tbody>\n",
       "</table>\n",
       "<p>1668794 rows × 33 columns</p>\n",
       "</div>"
      ],
      "text/plain": [
       "         individual_id    address_id  curr_ann_amt  days_tenure  \\\n",
       "0         2.213000e+11  5.213000e+11    818.877997       1454.0   \n",
       "1         2.213001e+11  5.213001e+11    974.199182       1795.0   \n",
       "2         2.213007e+11  5.213002e+11    967.375112       4818.0   \n",
       "3         2.213016e+11  5.213006e+11    992.409561        130.0   \n",
       "4         2.213016e+11  5.213006e+11    784.633494       5896.0   \n",
       "...                ...           ...           ...          ...   \n",
       "1668789   2.213007e+11  5.213002e+11   1259.900413        803.0   \n",
       "1668790   2.213015e+11  5.213005e+11    604.096865       3261.0   \n",
       "1668791   2.213026e+11  5.213009e+11   1255.570597       3403.0   \n",
       "1668792   2.213008e+11  5.213003e+11   1104.105051       1258.0   \n",
       "1668793   2.213016e+11  5.213006e+11    829.869558       2504.0   \n",
       "\n",
       "        cust_orig_date date_of_birth    income  has_children  \\\n",
       "0           2018-12-09    1978-06-23   22500.0             1   \n",
       "1           2018-01-02    1950-05-30   27500.0             0   \n",
       "2           2009-09-23    1967-07-07   42500.0             0   \n",
       "3           2022-07-25    1969-05-25  125000.0             1   \n",
       "4           2006-10-11    1972-09-25   87500.0             1   \n",
       "...                ...           ...       ...           ...   \n",
       "1668789     2020-09-20    1967-07-07   27500.0             1   \n",
       "1668790     2013-12-28    1945-07-01   87500.0             0   \n",
       "1668791     2013-08-08    1981-09-22  125000.0             0   \n",
       "1668792     2019-06-23    1970-07-26   87500.0             1   \n",
       "1668793     2016-01-24    1959-04-29  225000.0             1   \n",
       "\n",
       "         length_of_residence home_market_value  ... cust_orig_month  \\\n",
       "0                       15.0     50000 - 74999  ...         2018-12   \n",
       "1                        2.0     50000 - 74999  ...         2018-01   \n",
       "2                       10.0     75000 - 99999  ...         2009-09   \n",
       "3                        6.0   175000 - 199999  ...         2022-07   \n",
       "4                        4.0   225000 - 249999  ...         2006-10   \n",
       "...                      ...               ...  ...             ...   \n",
       "1668789                  3.0     50000 - 74999  ...         2020-09   \n",
       "1668790                  1.0   125000 - 149999  ...         2013-12   \n",
       "1668791                 12.0   125000 - 149999  ...         2013-08   \n",
       "1668792                 11.0     75000 - 99999  ...         2019-06   \n",
       "1668793                  4.0   200000 - 224999  ...         2016-01   \n",
       "\n",
       "            cohort_group  age_at_signup  age_signup_outlier  \\\n",
       "0        Old (2005-2020)             40                   0   \n",
       "1        Old (2005-2020)             67                   0   \n",
       "2        Old (2005-2020)             42                   0   \n",
       "3        New (2021-2022)             53                   0   \n",
       "4        Old (2005-2020)             34                   0   \n",
       "...                  ...            ...                 ...   \n",
       "1668789  Old (2005-2020)             53                   0   \n",
       "1668790  Old (2005-2020)             68                   0   \n",
       "1668791  Old (2005-2020)             31                   0   \n",
       "1668792  Old (2005-2020)             48                   0   \n",
       "1668793  Old (2005-2020)             56                   0   \n",
       "\n",
       "         age_at_signup_clean  signup_age_group  income_group residence_group  \\\n",
       "0                         40             35-44           Low           14-15   \n",
       "1                         67             65-74           Low             0-2   \n",
       "2                         42             35-44           Low            6-10   \n",
       "3                         53             45-54          High            6-10   \n",
       "4                         34             25-34           Mid             3-5   \n",
       "...                      ...               ...           ...             ...   \n",
       "1668789                   53             45-54           Low             3-5   \n",
       "1668790                   68             65-74           Mid             0-2   \n",
       "1668791                   31             25-34          High           11-13   \n",
       "1668792                   48             45-54           Mid           11-13   \n",
       "1668793                   56             55-64     Very High             3-5   \n",
       "\n",
       "        is_married region_cluster  \n",
       "0                1            0.0  \n",
       "1                0            2.0  \n",
       "2                1            2.0  \n",
       "3                1            4.0  \n",
       "4                1            4.0  \n",
       "...            ...            ...  \n",
       "1668789          0            0.0  \n",
       "1668790          1            3.0  \n",
       "1668791          1            0.0  \n",
       "1668792          0            1.0  \n",
       "1668793          1            1.0  \n",
       "\n",
       "[1668794 rows x 33 columns]"
      ]
     },
     "execution_count": 3,
     "metadata": {},
     "output_type": "execute_result"
    }
   ],
   "source": [
    "df_new = pd.read_csv('/Users/zoohunn/Desktop/비어플/비어플[금융]/datasets/cleaned_autoinsurance_churn2.csv')\n",
    "df_new"
   ]
  },
  {
   "cell_type": "code",
   "execution_count": 4,
   "metadata": {},
   "outputs": [
    {
     "data": {
      "text/plain": [
       "(1668794, 33)"
      ]
     },
     "execution_count": 4,
     "metadata": {},
     "output_type": "execute_result"
    }
   ],
   "source": [
    "df_new.shape"
   ]
  },
  {
   "cell_type": "code",
   "execution_count": 5,
   "metadata": {},
   "outputs": [
    {
     "name": "stdout",
     "output_type": "stream",
     "text": [
      "<class 'pandas.core.frame.DataFrame'>\n",
      "RangeIndex: 1668794 entries, 0 to 1668793\n",
      "Data columns (total 33 columns):\n",
      " #   Column               Non-Null Count    Dtype  \n",
      "---  ------               --------------    -----  \n",
      " 0   individual_id        1668794 non-null  float64\n",
      " 1   address_id           1668794 non-null  float64\n",
      " 2   curr_ann_amt         1668794 non-null  float64\n",
      " 3   days_tenure          1668794 non-null  float64\n",
      " 4   cust_orig_date       1668794 non-null  object \n",
      " 5   date_of_birth        1668794 non-null  object \n",
      " 6   income               1668794 non-null  float64\n",
      " 7   has_children         1668794 non-null  int64  \n",
      " 8   length_of_residence  1668794 non-null  float64\n",
      " 9   home_market_value    1668794 non-null  object \n",
      " 10  acct_suspd_date      191994 non-null   object \n",
      " 11  age_in_years         1668794 non-null  int64  \n",
      " 12  home_owner           1668794 non-null  float64\n",
      " 13  college_degree       1668794 non-null  float64\n",
      " 14  good_credit          1668794 non-null  float64\n",
      " 15  latitude             1416693 non-null  float64\n",
      " 16  longitude            1416693 non-null  float64\n",
      " 17  city                 1668794 non-null  object \n",
      " 18  state                1668794 non-null  object \n",
      " 19  county               1668794 non-null  object \n",
      " 20  churn                1668794 non-null  int64  \n",
      " 21  tenure_group         1668794 non-null  object \n",
      " 22  cust_orig_year       1668794 non-null  int64  \n",
      " 23  cust_orig_month      1668794 non-null  object \n",
      " 24  cohort_group         1668794 non-null  object \n",
      " 25  age_at_signup        1668794 non-null  int64  \n",
      " 26  age_signup_outlier   1668794 non-null  int64  \n",
      " 27  age_at_signup_clean  1668794 non-null  int64  \n",
      " 28  signup_age_group     1668794 non-null  object \n",
      " 29  income_group         1668794 non-null  object \n",
      " 30  residence_group      1668794 non-null  object \n",
      " 31  is_married           1668794 non-null  int64  \n",
      " 32  region_cluster       1416693 non-null  float64\n",
      "dtypes: float64(12), int64(8), object(13)\n",
      "memory usage: 420.2+ MB\n"
     ]
    }
   ],
   "source": [
    "df_new.info()"
   ]
  },
  {
   "cell_type": "code",
   "execution_count": 6,
   "metadata": {},
   "outputs": [
    {
     "data": {
      "text/plain": [
       "individual_id                0\n",
       "address_id                   0\n",
       "curr_ann_amt                 0\n",
       "days_tenure                  0\n",
       "cust_orig_date               0\n",
       "date_of_birth                0\n",
       "income                       0\n",
       "has_children                 0\n",
       "length_of_residence          0\n",
       "home_market_value            0\n",
       "acct_suspd_date        1476800\n",
       "age_in_years                 0\n",
       "home_owner                   0\n",
       "college_degree               0\n",
       "good_credit                  0\n",
       "latitude                252101\n",
       "longitude               252101\n",
       "city                         0\n",
       "state                        0\n",
       "county                       0\n",
       "churn                        0\n",
       "tenure_group                 0\n",
       "cust_orig_year               0\n",
       "cust_orig_month              0\n",
       "cohort_group                 0\n",
       "age_at_signup                0\n",
       "age_signup_outlier           0\n",
       "age_at_signup_clean          0\n",
       "signup_age_group             0\n",
       "income_group                 0\n",
       "residence_group              0\n",
       "is_married                   0\n",
       "region_cluster          252101\n",
       "dtype: int64"
      ]
     },
     "execution_count": 6,
     "metadata": {},
     "output_type": "execute_result"
    }
   ],
   "source": [
    "df_new.isnull().sum()"
   ]
  },
  {
   "cell_type": "markdown",
   "metadata": {},
   "source": [
    "# 드롭할 변수들 및 근거"
   ]
  },
  {
   "cell_type": "markdown",
   "metadata": {},
   "source": [
    "address_id -> 단순 surrogate key (DB 식별자) → 예측과 무관      \n",
    "acct_suspd_date → 해지 이후 발생하는 사후 변수 → 모델 입력 시 정보 누출(leakage) 위험   \n",
    "latitude, longitude → 결측률 높음(약 15%) + 주소 기반 상세 지역 정보는 분석 목적과 무관   \n",
    "state → 값이 TX 하나뿐이면 변동성 없음 → 설명력 0   \n",
    "그리고 나머지 drop한 열들은 내가 기본 전처리 및 eda 하면서 만들어본 파생변수들"
   ]
  },
  {
   "cell_type": "code",
   "execution_count": 7,
   "metadata": {},
   "outputs": [
    {
     "data": {
      "text/html": [
       "<div>\n",
       "<style scoped>\n",
       "    .dataframe tbody tr th:only-of-type {\n",
       "        vertical-align: middle;\n",
       "    }\n",
       "\n",
       "    .dataframe tbody tr th {\n",
       "        vertical-align: top;\n",
       "    }\n",
       "\n",
       "    .dataframe thead th {\n",
       "        text-align: right;\n",
       "    }\n",
       "</style>\n",
       "<table border=\"1\" class=\"dataframe\">\n",
       "  <thead>\n",
       "    <tr style=\"text-align: right;\">\n",
       "      <th></th>\n",
       "      <th>individual_id</th>\n",
       "      <th>curr_ann_amt</th>\n",
       "      <th>days_tenure</th>\n",
       "      <th>cust_orig_date</th>\n",
       "      <th>date_of_birth</th>\n",
       "      <th>income</th>\n",
       "      <th>has_children</th>\n",
       "      <th>length_of_residence</th>\n",
       "      <th>home_market_value</th>\n",
       "      <th>age_in_years</th>\n",
       "      <th>home_owner</th>\n",
       "      <th>college_degree</th>\n",
       "      <th>good_credit</th>\n",
       "      <th>city</th>\n",
       "      <th>county</th>\n",
       "      <th>cust_orig_year</th>\n",
       "      <th>cust_orig_month</th>\n",
       "      <th>churn</th>\n",
       "    </tr>\n",
       "  </thead>\n",
       "  <tbody>\n",
       "    <tr>\n",
       "      <th>0</th>\n",
       "      <td>2.213000e+11</td>\n",
       "      <td>818.877997</td>\n",
       "      <td>1454.0</td>\n",
       "      <td>2018-12-09</td>\n",
       "      <td>1978-06-23</td>\n",
       "      <td>22500.0</td>\n",
       "      <td>1</td>\n",
       "      <td>15.0</td>\n",
       "      <td>50000 - 74999</td>\n",
       "      <td>44</td>\n",
       "      <td>1.0</td>\n",
       "      <td>1.0</td>\n",
       "      <td>1.0</td>\n",
       "      <td>Kaufman</td>\n",
       "      <td>Kaufman</td>\n",
       "      <td>2018</td>\n",
       "      <td>2018-12</td>\n",
       "      <td>0</td>\n",
       "    </tr>\n",
       "    <tr>\n",
       "      <th>1</th>\n",
       "      <td>2.213001e+11</td>\n",
       "      <td>974.199182</td>\n",
       "      <td>1795.0</td>\n",
       "      <td>2018-01-02</td>\n",
       "      <td>1950-05-30</td>\n",
       "      <td>27500.0</td>\n",
       "      <td>0</td>\n",
       "      <td>2.0</td>\n",
       "      <td>50000 - 74999</td>\n",
       "      <td>72</td>\n",
       "      <td>1.0</td>\n",
       "      <td>0.0</td>\n",
       "      <td>0.0</td>\n",
       "      <td>Grand Prairie</td>\n",
       "      <td>Dallas</td>\n",
       "      <td>2018</td>\n",
       "      <td>2018-01</td>\n",
       "      <td>0</td>\n",
       "    </tr>\n",
       "    <tr>\n",
       "      <th>2</th>\n",
       "      <td>2.213007e+11</td>\n",
       "      <td>967.375112</td>\n",
       "      <td>4818.0</td>\n",
       "      <td>2009-09-23</td>\n",
       "      <td>1967-07-07</td>\n",
       "      <td>42500.0</td>\n",
       "      <td>0</td>\n",
       "      <td>10.0</td>\n",
       "      <td>75000 - 99999</td>\n",
       "      <td>55</td>\n",
       "      <td>1.0</td>\n",
       "      <td>0.0</td>\n",
       "      <td>0.0</td>\n",
       "      <td>Dallas</td>\n",
       "      <td>Dallas</td>\n",
       "      <td>2009</td>\n",
       "      <td>2009-09</td>\n",
       "      <td>0</td>\n",
       "    </tr>\n",
       "    <tr>\n",
       "      <th>3</th>\n",
       "      <td>2.213016e+11</td>\n",
       "      <td>992.409561</td>\n",
       "      <td>130.0</td>\n",
       "      <td>2022-07-25</td>\n",
       "      <td>1969-05-25</td>\n",
       "      <td>125000.0</td>\n",
       "      <td>1</td>\n",
       "      <td>6.0</td>\n",
       "      <td>175000 - 199999</td>\n",
       "      <td>53</td>\n",
       "      <td>1.0</td>\n",
       "      <td>0.0</td>\n",
       "      <td>1.0</td>\n",
       "      <td>Arlington</td>\n",
       "      <td>Tarrant</td>\n",
       "      <td>2022</td>\n",
       "      <td>2022-07</td>\n",
       "      <td>1</td>\n",
       "    </tr>\n",
       "    <tr>\n",
       "      <th>4</th>\n",
       "      <td>2.213016e+11</td>\n",
       "      <td>784.633494</td>\n",
       "      <td>5896.0</td>\n",
       "      <td>2006-10-11</td>\n",
       "      <td>1972-09-25</td>\n",
       "      <td>87500.0</td>\n",
       "      <td>1</td>\n",
       "      <td>4.0</td>\n",
       "      <td>225000 - 249999</td>\n",
       "      <td>50</td>\n",
       "      <td>1.0</td>\n",
       "      <td>1.0</td>\n",
       "      <td>1.0</td>\n",
       "      <td>Fort Worth</td>\n",
       "      <td>Tarrant</td>\n",
       "      <td>2006</td>\n",
       "      <td>2006-10</td>\n",
       "      <td>0</td>\n",
       "    </tr>\n",
       "  </tbody>\n",
       "</table>\n",
       "</div>"
      ],
      "text/plain": [
       "   individual_id  curr_ann_amt  days_tenure cust_orig_date date_of_birth  \\\n",
       "0   2.213000e+11    818.877997       1454.0     2018-12-09    1978-06-23   \n",
       "1   2.213001e+11    974.199182       1795.0     2018-01-02    1950-05-30   \n",
       "2   2.213007e+11    967.375112       4818.0     2009-09-23    1967-07-07   \n",
       "3   2.213016e+11    992.409561        130.0     2022-07-25    1969-05-25   \n",
       "4   2.213016e+11    784.633494       5896.0     2006-10-11    1972-09-25   \n",
       "\n",
       "     income  has_children  length_of_residence home_market_value  \\\n",
       "0   22500.0             1                 15.0     50000 - 74999   \n",
       "1   27500.0             0                  2.0     50000 - 74999   \n",
       "2   42500.0             0                 10.0     75000 - 99999   \n",
       "3  125000.0             1                  6.0   175000 - 199999   \n",
       "4   87500.0             1                  4.0   225000 - 249999   \n",
       "\n",
       "   age_in_years  home_owner  college_degree  good_credit           city  \\\n",
       "0            44         1.0             1.0          1.0        Kaufman   \n",
       "1            72         1.0             0.0          0.0  Grand Prairie   \n",
       "2            55         1.0             0.0          0.0         Dallas   \n",
       "3            53         1.0             0.0          1.0      Arlington   \n",
       "4            50         1.0             1.0          1.0     Fort Worth   \n",
       "\n",
       "    county  cust_orig_year cust_orig_month  churn  \n",
       "0  Kaufman            2018         2018-12      0  \n",
       "1   Dallas            2018         2018-01      0  \n",
       "2   Dallas            2009         2009-09      0  \n",
       "3  Tarrant            2022         2022-07      1  \n",
       "4  Tarrant            2006         2006-10      0  "
      ]
     },
     "execution_count": 7,
     "metadata": {},
     "output_type": "execute_result"
    }
   ],
   "source": [
    "df_new = df_new.drop(columns=['address_id', 'acct_suspd_date', 'latitude', 'longitude', 'state','age_at_signup','age_signup_outlier','age_at_signup_clean','signup_age_group','income_group','residence_group','is_married','region_cluster','tenure_group','cohort_group'])\n",
    "\n",
    "churn = df_new.pop('churn')\n",
    "df_new['churn'] = churn\n",
    "\n",
    "df_new.head()"
   ]
  },
  {
   "cell_type": "code",
   "execution_count": 8,
   "metadata": {},
   "outputs": [
    {
     "name": "stdout",
     "output_type": "stream",
     "text": [
      "<class 'pandas.core.frame.DataFrame'>\n",
      "RangeIndex: 1668794 entries, 0 to 1668793\n",
      "Data columns (total 18 columns):\n",
      " #   Column               Non-Null Count    Dtype  \n",
      "---  ------               --------------    -----  \n",
      " 0   individual_id        1668794 non-null  float64\n",
      " 1   curr_ann_amt         1668794 non-null  float64\n",
      " 2   days_tenure          1668794 non-null  float64\n",
      " 3   cust_orig_date       1668794 non-null  object \n",
      " 4   date_of_birth        1668794 non-null  object \n",
      " 5   income               1668794 non-null  float64\n",
      " 6   has_children         1668794 non-null  int64  \n",
      " 7   length_of_residence  1668794 non-null  float64\n",
      " 8   home_market_value    1668794 non-null  object \n",
      " 9   age_in_years         1668794 non-null  int64  \n",
      " 10  home_owner           1668794 non-null  float64\n",
      " 11  college_degree       1668794 non-null  float64\n",
      " 12  good_credit          1668794 non-null  float64\n",
      " 13  city                 1668794 non-null  object \n",
      " 14  county               1668794 non-null  object \n",
      " 15  cust_orig_year       1668794 non-null  int64  \n",
      " 16  cust_orig_month      1668794 non-null  object \n",
      " 17  churn                1668794 non-null  int64  \n",
      "dtypes: float64(8), int64(4), object(6)\n",
      "memory usage: 229.2+ MB\n"
     ]
    }
   ],
   "source": [
    "df_new.info()"
   ]
  },
  {
   "cell_type": "code",
   "execution_count": 9,
   "metadata": {},
   "outputs": [],
   "source": [
    "### 이 부분부터 실제로 사용할 파생변수를 만들기 위해 기본 변수들 조합 및 분포를 확인해볼 예정."
   ]
  },
  {
   "cell_type": "code",
   "execution_count": 10,
   "metadata": {},
   "outputs": [],
   "source": [
    "# 날짜 변환\n",
    "df_new['cust_orig_date'] = pd.to_datetime(df_new['cust_orig_date'], errors='coerce')\n",
    "df_new['date_of_birth']  = pd.to_datetime(df_new['date_of_birth'], errors='coerce')"
   ]
  },
  {
   "cell_type": "code",
   "execution_count": 11,
   "metadata": {},
   "outputs": [],
   "source": [
    "# 먼저 가입 시 연령, 가입기간(년 단위) 변수 생성"
   ]
  },
  {
   "cell_type": "code",
   "execution_count": 12,
   "metadata": {},
   "outputs": [],
   "source": [
    "# 가입 시 연령 (가입일 - 출생일)\n",
    "df_new['age_at_orig'] = np.floor(\n",
    "    (df_new['cust_orig_date'] - df_new['date_of_birth']).dt.days / 365.25 # 윤년 고려(1년=365.25일)\n",
    ")"
   ]
  },
  {
   "cell_type": "code",
   "execution_count": 13,
   "metadata": {},
   "outputs": [],
   "source": [
    "# 가입기간 (년 단위)\n",
    "df_new['tenure_years'] = df_new['days_tenure'] / 365.25"
   ]
  },
  {
   "cell_type": "code",
   "execution_count": 14,
   "metadata": {},
   "outputs": [
    {
     "data": {
      "text/plain": [
       "count    1.668794e+06\n",
       "mean     8.181184e+04\n",
       "std      5.435400e+04\n",
       "min      5.000000e+03\n",
       "25%      4.750000e+04\n",
       "50%      7.000000e+04\n",
       "75%      8.750000e+04\n",
       "max      2.500000e+05\n",
       "Name: income, dtype: float64"
      ]
     },
     "execution_count": 14,
     "metadata": {},
     "output_type": "execute_result"
    }
   ],
   "source": [
    "df_new['income'].describe()"
   ]
  },
  {
   "cell_type": "code",
   "execution_count": 15,
   "metadata": {},
   "outputs": [],
   "source": [
    "# 보험료부담률 -> 보험료(연간 납입 보험료)/소득(연간 소득)\n",
    "df_new['premium_to_income'] = df_new['curr_ann_amt'] / df_new['income']"
   ]
  },
  {
   "cell_type": "code",
   "execution_count": 16,
   "metadata": {},
   "outputs": [
    {
     "name": "stdout",
     "output_type": "stream",
     "text": [
      "count    1.668794e+06\n",
      "mean     4.556833e+01\n",
      "std      1.406733e+01\n",
      "min      1.800000e+01\n",
      "25%      3.500000e+01\n",
      "50%      4.400000e+01\n",
      "75%      5.400000e+01\n",
      "max      1.120000e+02\n",
      "Name: age_at_orig, dtype: float64\n"
     ]
    },
    {
     "data": {
      "text/plain": [
       "<Axes: >"
      ]
     },
     "execution_count": 16,
     "metadata": {},
     "output_type": "execute_result"
    },
    {
     "data": {
      "image/png": "[encoded data removed]",
      "text/plain": [
       "<Figure size 640x480 with 1 Axes>"
      ]
     },
     "metadata": {},
     "output_type": "display_data"
    }
   ],
   "source": [
    "# 가입 시 연령 분포\n",
    "print(df_new['age_at_orig'].describe())\n",
    "df_new['age_at_orig'].hist(bins=30) # max가 100세가 넘지만 나중에 경제 변수들과 합치고 나서, 실제 보험사 가입 조건 확인 이후 이상치 처리 예정"
   ]
  },
  {
   "cell_type": "code",
   "execution_count": 17,
   "metadata": {},
   "outputs": [
    {
     "name": "stdout",
     "output_type": "stream",
     "text": [
      "count    1.668794e+06\n",
      "mean     9.859254e+00\n",
      "std      6.409063e+00\n",
      "min      5.475702e-02\n",
      "25%      3.824778e+00\n",
      "50%      9.990418e+00\n",
      "75%      1.722382e+01\n",
      "max      1.722382e+01\n",
      "Name: tenure_years, dtype: float64\n"
     ]
    },
    {
     "data": {
      "text/plain": [
       "<Axes: >"
      ]
     },
     "execution_count": 17,
     "metadata": {},
     "output_type": "execute_result"
    },
    {
     "data": {
      "image/png": "[encoded data removed]",
      "text/plain": [
       "<Figure size 640x480 with 1 Axes>"
      ]
     },
     "metadata": {},
     "output_type": "display_data"
    }
   ],
   "source": [
    "# 가입기간 분포\n",
    "print(df_new['tenure_years'].describe())\n",
    "df_new['tenure_years'].hist(bins=30)"
   ]
  },
  {
   "cell_type": "code",
   "execution_count": 18,
   "metadata": {},
   "outputs": [
    {
     "name": "stdout",
     "output_type": "stream",
     "text": [
      "count    1.668794e+06\n",
      "mean     1.953944e-02\n",
      "std      2.572507e-02\n",
      "min      2.599552e-06\n",
      "10%      5.787729e-03\n",
      "25%      8.781482e-03\n",
      "50%      1.302010e-02\n",
      "75%      2.006732e-02\n",
      "90%      3.432627e-02\n",
      "95%      5.247758e-02\n",
      "max      3.980094e-01\n",
      "Name: premium_to_income, dtype: float64\n"
     ]
    },
    {
     "data": {
      "text/plain": [
       "<Axes: >"
      ]
     },
     "execution_count": 18,
     "metadata": {},
     "output_type": "execute_result"
    },
    {
     "data": {
      "image/png": "[encoded data removed]",
      "text/plain": [
       "<Figure size 640x480 with 1 Axes>"
      ]
     },
     "metadata": {},
     "output_type": "display_data"
    }
   ],
   "source": [
    "# 보험료 부담률 분포\n",
    "print(df_new['premium_to_income'].describe(percentiles=[.1,.25,.5,.75,.9,.95]))\n",
    "df_new['premium_to_income'].hist(bins=50)"
   ]
  },
  {
   "cell_type": "code",
   "execution_count": 19,
   "metadata": {},
   "outputs": [
    {
     "data": {
      "text/plain": [
       "0.990    0.168273\n",
       "0.995    0.200720\n",
       "0.999    0.248620\n",
       "Name: premium_to_income, dtype: float64"
      ]
     },
     "execution_count": 19,
     "metadata": {},
     "output_type": "execute_result"
    }
   ],
   "source": [
    "df_new['premium_to_income'].quantile([0.99,0.995,0.999])\n"
   ]
  },
  {
   "cell_type": "code",
   "execution_count": 20,
   "metadata": {},
   "outputs": [
    {
     "data": {
      "text/plain": [
       "<Axes: >"
      ]
     },
     "execution_count": 20,
     "metadata": {},
     "output_type": "execute_result"
    },
    {
     "data": {
      "image/png": "[encoded data removed]",
      "text/plain": [
       "<Figure size 640x480 with 1 Axes>"
      ]
     },
     "metadata": {},
     "output_type": "display_data"
    }
   ],
   "source": [
    "np.log1p(df_new['premium_to_income']).hist(bins=50)"
   ]
  },
  {
   "cell_type": "markdown",
   "metadata": {},
   "source": [
    "<분포 요약 정리>   \n",
    "가입연령 (age_at_orig)   \n",
    "평균 ≈ 45세, 중앙값 = 44세, IQR = 35–54세   \n",
    "최소 18세, 최대 112세 (상한치 일부는 이상치일 수 있음)    \n",
    "\n",
    "가입기간 (tenure_years)   \n",
    "평균 ≈ 10년, 중앙값 ≈ 10년   \n",
    "최소 ≈ 0.05년 (~20일), 최대 ≈ 17.2년 (데이터 수집 기준 한계치)   \n",
    "\n",
    "보험료 부담률 (premium_to_income)   \n",
    "평균 2%, 중앙값 1.3%   \n",
    "90% < 3.4%, 95% < 5.2%, 극단값 39%까지 존재   "
   ]
  },
  {
   "cell_type": "markdown",
   "metadata": {},
   "source": [
    "# 보험 상품 변수 생성"
   ]
  },
  {
   "cell_type": "markdown",
   "metadata": {},
   "source": [
    "### 설계 base\n",
    "1. **변액종신 (Whole Life) → '안정적인 고소득 가장'**   \n",
    "    - 기존 '고부담 가장' 프로필에 '안정성'을 추가하여, 일시적인 고소득이 아닌 꾸준한 소득 기반을 가진 고객으로 특정   \n",
    "    - **(조건)**   \n",
    "        - `premium_to_income >= 0.05` (상위 5% 고부담)   \n",
    "        - `30 <= age_at_orig < 55` (핵심 부양 연령층)   \n",
    "        - `has_children == 1` (명확한 보장 니즈)   \n",
    "        - `length_of_residence >= 7` (안정성 지표 추가)   \n",
    "2. **변액연금 (Annuity) → '안정적인 노후 준비'**   \n",
    "    - 마찬가지로, 장기적인 노후 계획은 안정적인 주거 및 소득 기반 위에서 이루어질 가능성이 높음.   \n",
    "    - **(조건)**   \n",
    "        - `age_at_orig >= 45` (은퇴 준비 연령)  \n",
    "        - `tenure_years >= 10` (장기 유지 충성 고객)  \n",
    "        - `premium_to_income >= 0.02` (평균 이상 부담)  \n",
    "        - `length_of_residence >= 7` (안정성 지표)   \n",
    "3. **변액유니버셜 (Universal Life) → '유연성이 필요한 나머지'**   \n",
    "    - 위의 '안정적인 장기플랜 고객'에 속하지 않는 모든 고객!!\n",
    "    - **(주요 특징)**   \n",
    "        - **거주 기간이 7년 미만**으로 상대적으로 라이프스타일이 유동적인 고객   \n",
    "        - 보험료 부담이 적거나, 가입 기간이 짧은 고객   \n",
    "        - 이들은 필요에 따라 입출금이 유연한 유니버셜 상품의 특성과 더 잘 부합  "
   ]
  },
  {
   "cell_type": "code",
   "execution_count": 21,
   "metadata": {},
   "outputs": [],
   "source": [
    "df = df_new.copy()"
   ]
  },
  {
   "cell_type": "code",
   "execution_count": 22,
   "metadata": {},
   "outputs": [
    {
     "name": "stdout",
     "output_type": "stream",
     "text": [
      "=== v2 Proxy 별 고객 수 분포 ===\n",
      "policy_proxy_v2\n",
      "Universal Life    1587317\n",
      "Annuity             68380\n",
      "Whole Life          13097\n",
      "Name: count, dtype: int64\n",
      "\n",
      "========================================\n",
      "\n",
      "=== v2 Proxy 별 주요 변수 평균값 비교 ===\n",
      "                 age_at_orig  tenure_years  premium_to_income  has_children  \\\n",
      "policy_proxy_v2                                                               \n",
      "Annuity            60.422243     16.352047           0.046632      0.310763   \n",
      "Universal Life     44.955092      9.579811           0.017681      0.528162   \n",
      "Whole Life         42.338627      9.827670           0.103384      1.000000   \n",
      "\n",
      "                 length_of_residence  \n",
      "policy_proxy_v2                       \n",
      "Annuity                    13.240641  \n",
      "Universal Life              7.227282  \n",
      "Whole Life                 11.848362  \n"
     ]
    }
   ],
   "source": [
    "# 1. 변액종신(Whole Life) 조건 정의 \n",
    "# '안정성'이 검증된, 가족 부양 책임이 큰 고부담 핵심 연령층\n",
    "condition_whole_life = (\n",
    "    (df['premium_to_income'] >= 0.05) &      # 조건1: 보험료 부담 상위 5%\n",
    "    (df['age_at_orig'] >= 30) &              # 조건2: 핵심 경제활동 연령\n",
    "    (df['age_at_orig'] < 55) &\n",
    "    (df['has_children'] == 1) &              # 조건3: 자녀 보유\n",
    "    (df['length_of_residence'] >= 7)         # 조건4: 안정성 지표 (7년 이상 거주)\n",
    ")\n",
    "\n",
    "# 2. 변액연금(Annuity) 조건 정의\n",
    "# '안정성'이 검증된, 은퇴를 준비하는 장기 유지 고연령층\n",
    "condition_annuity = (\n",
    "    (df['age_at_orig'] >= 45) &              # 조건1: 노후 준비 연령\n",
    "    (df['tenure_years'] >= 10) &             # 조건2: 10년 이상 장기 유지\n",
    "    (df['premium_to_income'] >= 0.02) &      # 조건3: 보험료 부담 상위 25%\n",
    "    (df['length_of_residence'] >= 7)         # 조건4: 안정성 지표 (7년 이상 거주)\n",
    ")\n",
    "\n",
    "# 3. np.select를 사용하여 순차적으로 Proxy 할당\n",
    "conditions = [\n",
    "    condition_whole_life,\n",
    "    condition_annuity\n",
    "]\n",
    "choices = [\n",
    "    'Whole Life',\n",
    "    'Annuity'\n",
    "]\n",
    "df['policy_proxy_v2'] = np.select(conditions, choices, default='Universal Life')\n",
    "\n",
    "# 4. 분류 결과 확인\n",
    "print(\"=== v2 Proxy 별 고객 수 분포 ===\")\n",
    "print(df['policy_proxy_v2'].value_counts())\n",
    "print(\"\\n\" + \"=\"*40)\n",
    "\n",
    "# 거주 기간이 실제로 잘 반영되었는지 확인하기 위해 그룹별 평균값을 출력\n",
    "print(\"\\n=== v2 Proxy 별 주요 변수 평균값 비교 ===\")\n",
    "print(df.groupby('policy_proxy_v2')[['age_at_orig', 'tenure_years', 'premium_to_income', 'has_children', 'length_of_residence']].mean())"
   ]
  },
  {
   "cell_type": "markdown",
   "metadata": {},
   "source": [
    "Universal Life(변액유니버셜보험), Annuity(변액연금보험), Whole Life(변액종신보험)   "
   ]
  },
  {
   "cell_type": "code",
   "execution_count": 23,
   "metadata": {},
   "outputs": [
    {
     "data": {
      "text/plain": [
       "np.int64(0)"
      ]
     },
     "execution_count": 23,
     "metadata": {},
     "output_type": "execute_result"
    }
   ],
   "source": [
    "df['policy_proxy_v2'].isnull().sum() # 결측치 없음"
   ]
  },
  {
   "cell_type": "code",
   "execution_count": 24,
   "metadata": {},
   "outputs": [
    {
     "name": "stdout",
     "output_type": "stream",
     "text": [
      "=== Proxy 그룹별 해지율(%) ===\n",
      "policy_proxy_v2\n",
      "Whole Life        11.880583\n",
      "Universal Life    11.693694\n",
      "Annuity            7.051770\n",
      "Name: churn, dtype: float64\n"
     ]
    },
    {
     "name": "stderr",
     "output_type": "stream",
     "text": [
      "/var/folders/ft/qy0hfkvd0rx250sfnxdbjr7r0000gn/T/ipykernel_1252/473619152.py:9: FutureWarning: \n",
      "\n",
      "Passing `palette` without assigning `hue` is deprecated and will be removed in v0.14.0. Assign the `x` variable to `hue` and set `legend=False` for the same effect.\n",
      "\n",
      "  bars = sns.barplot(x=churn_rate_by_proxy.index, y=churn_rate_by_proxy.values, palette='viridis')\n"
     ]
    },
    {
     "data": {
      "image/png": "[encoded data removed]",
      "text/plain": [
       "<Figure size 700x500 with 1 Axes>"
      ]
     },
     "metadata": {},
     "output_type": "display_data"
    }
   ],
   "source": [
    "# 1. 그룹별 해지율 계산 (소수점 -> 퍼센트로 변환)\n",
    "churn_rate_by_proxy = df.groupby('policy_proxy_v2')['churn'].mean().sort_values(ascending=False) * 100\n",
    "\n",
    "print(\"=== Proxy 그룹별 해지율(%) ===\")\n",
    "print(churn_rate_by_proxy)\n",
    "\n",
    "# 2. 결과\n",
    "plt.figure(figsize=(7,5))\n",
    "bars = sns.barplot(x=churn_rate_by_proxy.index, y=churn_rate_by_proxy.values, palette='viridis')\n",
    "\n",
    "plt.title('Proxy 그룹별 고객 해지율 비교', fontsize=16, pad=20)\n",
    "plt.xlabel('보험 상품 Proxy', fontsize=12)\n",
    "plt.ylabel('해지율 (%)', fontsize=12)\n",
    "plt.ylim(0, churn_rate_by_proxy.max() * 1.2) \n",
    "for bar in bars.patches:\n",
    "    yval = bar.get_height()\n",
    "    plt.text(bar.get_x() + bar.get_width()/2.0, yval + 0.1, f'{yval:.2f}%', ha='center', va='bottom', fontsize=11)\n",
    "\n",
    "plt.show()\n"
   ]
  },
  {
   "cell_type": "code",
   "execution_count": 25,
   "metadata": {},
   "outputs": [
    {
     "name": "stdout",
     "output_type": "stream",
     "text": [
      "=== 교차표 (Contingency Table) ===\n",
      "churn                  0       1\n",
      "policy_proxy_v2                 \n",
      "Annuity            63558    4822\n",
      "Universal Life   1401701  185616\n",
      "Whole Life         11541    1556\n",
      "\n",
      "========================================\n",
      "\n",
      "카이제곱 통계량 (Chi-squared Statistic): 1389.2376\n",
      "P-value: 2.1423853001242485e-302\n",
      "자유도 (Degrees of Freedom): 2\n",
      "\n",
      "결론: P-value(0.0000)가 유의수준(0.05)보다 작으므로,\n",
      "Proxy 그룹과 고객 해지 여부는 통계적으로 유의미한 관련이 있습니다.\n"
     ]
    }
   ],
   "source": [
    "from scipy.stats import chi2_contingency\n",
    "\n",
    "# 1. 교차표(Crosstab) 생성\n",
    "# index: Proxy 그룹, columns: 해지 여부(0:유지, 1:해지)\n",
    "contingency_table = pd.crosstab(df['policy_proxy_v2'], df['churn'])\n",
    "\n",
    "print(\"=== 교차표 (Contingency Table) ===\")\n",
    "print(contingency_table)\n",
    "print(\"\\n\" + \"=\"*40 + \"\\n\")\n",
    "\n",
    "# 2. 카이제곱 검정 실행\n",
    "chi2, p_value, dof, expected = chi2_contingency(contingency_table)\n",
    "\n",
    "print(f\"카이제곱 통계량 (Chi-squared Statistic): {chi2:.4f}\")\n",
    "print(f\"P-value: {p_value}\")\n",
    "print(f\"자유도 (Degrees of Freedom): {dof}\")\n",
    "\n",
    "# 3. 결과 해석\n",
    "alpha = 0.05  \n",
    "if p_value < alpha:\n",
    "    print(f\"\\n결론: P-value({p_value:.4f})가 유의수준({alpha})보다 작으므로,\")\n",
    "    print(\"Proxy 그룹과 고객 해지 여부는 통계적으로 유의미한 관련이 있습니다.\")\n",
    "else:\n",
    "    print(f\"\\n결론: P-value({p_value:.4f})가 유의수준({alpha})보다 크므로,\")\n",
    "    print(\"Proxy 그룹과 고객 해지 여부는 통계적으로 유의미한 관련이 있다고 보기 어렵습니다.\")"
   ]
  },
  {
   "cell_type": "markdown",
   "metadata": {},
   "source": [
    "# 안정형/공격형/혼합형 투자성향 변수 생성 "
   ]
  },
  {
   "cell_type": "markdown",
   "metadata": {},
   "source": [
    "## 설계 base\n",
    "### 세분화 로직 설계\n",
    "\n",
    "- **`premium_to_income`** : 소득 대비 높은 비용을 지불하는 것은 그만큼 해당 목표에 대한 의지가 강하고 공격적인 재무 결정을 내렸다는 의미   \n",
    "- **`age_at_orig`**: 나이가 많을수록 일반적으로 위험 회피 성향이 강해지고 안정적인 자산 관리를 추구   \n",
    "\n",
    "이 두 가지 변수를 조합하여 각 Proxy 그룹 내에서 성향을 재정의   \n",
    "\n",
    "### 1. Annuity (변액연금) 그룹 내 세분화\n",
    "\n",
    "이 그룹은 기본적으로 **'안정형'** 베이스. 여기서 '공격형'은 상대적인 의미   \n",
    "\n",
    "- **안정형**: 고연령(>=60세)이면서 평균적인 부담률(2%~5%)을 보이는 전형적인 은퇴 준비 고객.   \n",
    "- **공격형**: 연금 상품임에도 매우 높은 부담률(>=5%)을 보이거나, 상대적으로 젊은 나이(<50세)에 가입하여 장기적인 고수익을 추구하는 고객.   \n",
    "- **혼합형**: 위 두 유형에 속하지 않는 나머지.   \n",
    "\n",
    "### 2. Whole Life (변액종신) 그룹 내 세분화\n",
    "\n",
    "이 그룹은 기본적으로 **'공격형'** 베이스. 여기서 '안정형'은 상대적으로 부담이 덜한 고객을 의미   \n",
    " \n",
    "- **공격형**: 그룹 평균(10.3%)을 뛰어넘는 초고부담률(>=10%)을 보이는 고객. 보장에 대한 니즈가 매우 강력   \n",
    "- **안정형**: 고연령(>=50세)에 가입하여 더 늦기 전에 보장을 확보하려 하거나, 부담률이 그룹 내에서 상대적으로 낮은(5%~8%) 고객.   \n",
    "- **혼합형**: 위 두 유형에 속하지 않는 나머지.   \n",
    "\n",
    "### 3. Universal Life (변액유니버셜) 그룹 내 세분화\n",
    "\n",
    "가장 다양성이 큰 그룹으로, 연령과 부담률을 통해 성향을 뚜렷하게 나눌 수 있음   \n",
    "\n",
    "- **공격형**: 젊은 나이(<35세)에 평균 이상의 부담률(>=2%)로 가입하여, 자산 증식을 목표로 할 가능성이 높은 고객.   \n",
    "- **안정형**: 고연령(>=55세)에 낮은 부담률(<1.5%)로 가입하여, 최소한의 보장이나 단순 예비 자금 목적으로 활용할 가능성이 높은 고객.  \n",
    "- **혼합형**: 가장 많은 수를 차지하는 중간 지대의 나머지 고객들.   "
   ]
  },
  {
   "cell_type": "code",
   "execution_count": 26,
   "metadata": {},
   "outputs": [
    {
     "name": "stdout",
     "output_type": "stream",
     "text": [
      "=== Proxy 그룹 내 최종 Strategy 유형 세분화 결과 ===\n",
      "strategy_type_final     공격형     안정형      혼합형\n",
      "policy_proxy_v2                             \n",
      "Annuity               19324   10246    38810\n",
      "Universal Life       208449  197430  1181438\n",
      "Whole Life             5239    2143     5715\n"
     ]
    }
   ],
   "source": [
    "# 1. 각 Proxy 그룹별 백분위수 기준점 계산\n",
    "# Annuity 그룹 기준점\n",
    "annuity_age_70p = df[df['policy_proxy_v2'] == 'Annuity']['age_at_orig'].quantile(0.7)\n",
    "annuity_premium_mid_start = df[df['policy_proxy_v2'] == 'Annuity']['premium_to_income'].quantile(0.25)\n",
    "annuity_premium_mid_end = df[df['policy_proxy_v2'] == 'Annuity']['premium_to_income'].quantile(0.75)\n",
    "annuity_premium_70p = df[df['policy_proxy_v2'] == 'Annuity']['premium_to_income'].quantile(0.7)\n",
    "\n",
    "# Whole Life 그룹 기준점\n",
    "wholelife_age_60p = df[df['policy_proxy_v2'] == 'Whole Life']['age_at_orig'].quantile(0.6)\n",
    "wholelife_premium_60p = df[df['policy_proxy_v2'] == 'Whole Life']['premium_to_income'].quantile(0.6)\n",
    "wholelife_premium_40p = df[df['policy_proxy_v2'] == 'Whole Life']['premium_to_income'].quantile(0.4)\n",
    "\n",
    "# Universal Life 그룹 기준점\n",
    "universal_age_30p = df[df['policy_proxy_v2'] == 'Universal Life']['age_at_orig'].quantile(0.3)\n",
    "universal_age_70p = df[df['policy_proxy_v2'] == 'Universal Life']['age_at_orig'].quantile(0.7)\n",
    "universal_premium_60p = df[df['policy_proxy_v2'] == 'Universal Life']['premium_to_income'].quantile(0.6)\n",
    "universal_premium_40p = df[df['policy_proxy_v2'] == 'Universal Life']['premium_to_income'].quantile(0.4)\n",
    "\n",
    "# 2. 조건 목록 정의 (가장 구체적인 조건부터 순서대로)\n",
    "conditions = [\n",
    "    # Annuity 그룹 세분화\n",
    "    (df['policy_proxy_v2'] == 'Annuity') & (df['age_at_orig'] >= annuity_age_70p) & (df['premium_to_income'].between(annuity_premium_mid_start, annuity_premium_mid_end)),\n",
    "    (df['policy_proxy_v2'] == 'Annuity') & (df['premium_to_income'] >= annuity_premium_70p),\n",
    "    \n",
    "    # Whole Life 그룹 세분화\n",
    "    (df['policy_proxy_v2'] == 'Whole Life') & (df['premium_to_income'] >= wholelife_premium_60p),\n",
    "    (df['policy_proxy_v2'] == 'Whole Life') & (df['age_at_orig'] >= wholelife_age_60p) & (df['premium_to_income'] <= wholelife_premium_40p),\n",
    "    \n",
    "    # Universal Life 그룹 세분화\n",
    "    (df['policy_proxy_v2'] == 'Universal Life') & (df['age_at_orig'] <= universal_age_30p) & (df['premium_to_income'] >= universal_premium_60p),\n",
    "    (df['policy_proxy_v2'] == 'Universal Life') & (df['age_at_orig'] >= universal_age_70p) & (df['premium_to_income'] <= universal_premium_40p),\n",
    "]\n",
    "\n",
    "# 3. 각 조건에 해당하는 값(전략 유형) 정의\n",
    "choices = [\n",
    "    '안정형',  # Annuity 안정형\n",
    "    '공격형',  # Annuity 공격형\n",
    "    \n",
    "    '공격형',  # Whole Life 공격형\n",
    "    '안정형',  # Whole Life 안정형\n",
    "    \n",
    "    '공격형',  # Universal 공격형\n",
    "    '안정형',  # Universal 안정형\n",
    "]\n",
    "\n",
    "# 4. 'strategy_type_final' 컬럼 생성 (나머지는 '혼합형'으로)\n",
    "df['strategy_type_final'] = np.select(conditions, choices, default='혼합형')\n",
    "\n",
    "# 5. 최종 결과 확인\n",
    "print(\"=== Proxy 그룹 내 최종 Strategy 유형 세분화 결과 ===\")\n",
    "final_distribution = pd.crosstab(df['policy_proxy_v2'], df['strategy_type_final'])\n",
    "print(final_distribution)"
   ]
  },
  {
   "cell_type": "code",
   "execution_count": 27,
   "metadata": {},
   "outputs": [
    {
     "name": "stdout",
     "output_type": "stream",
     "text": [
      "=== 세분화된 그룹별 특성 평균값 검증 ===\n",
      "                                     age_at_orig  premium_to_income  \\\n",
      "policy_proxy_v2 strategy_type_final                                   \n",
      "Annuity         공격형                    62.648158           0.091935   \n",
      "                안정형                    72.724087           0.033815   \n",
      "                혼합형                    56.066194           0.027459   \n",
      "Universal Life  공격형                    30.183637           0.029534   \n",
      "                안정형                    59.991273           0.007364   \n",
      "                혼합형                    45.048624           0.017313   \n",
      "Whole Life      공격형                    42.431189           0.162706   \n",
      "                안정형                    49.353243           0.057936   \n",
      "                혼합형                    39.623447           0.066046   \n",
      "\n",
      "                                     tenure_years  \n",
      "policy_proxy_v2 strategy_type_final                \n",
      "Annuity         공격형                     16.435345  \n",
      "                안정형                     16.182205  \n",
      "                혼합형                     16.355412  \n",
      "Universal Life  공격형                     10.315451  \n",
      "                안정형                      7.940955  \n",
      "                혼합형                      9.723886  \n",
      "Whole Life      공격형                      9.683088  \n",
      "                안정형                      8.655939  \n",
      "                혼합형                     10.399582  \n"
     ]
    }
   ],
   "source": [
    "# 'policy_proxy_v2'와 'strategy_type_final'로 그룹화하여 각 세부 그룹의 주요 변수 평균값을 확인\n",
    "\n",
    "validation_stats = df.groupby(['policy_proxy_v2', 'strategy_type_final'])[['age_at_orig', 'premium_to_income', 'tenure_years']].mean()\n",
    "\n",
    "print(\"=== 세분화된 그룹별 특성 평균값 검증 ===\")\n",
    "print(validation_stats)"
   ]
  },
  {
   "cell_type": "code",
   "execution_count": 28,
   "metadata": {},
   "outputs": [
    {
     "name": "stdout",
     "output_type": "stream",
     "text": [
      "=== 그룹 내 전략 유형별 해지율(%) ===\n",
      "  policy_proxy_v2 strategy_type_final  churn_rate\n",
      "0         Annuity                 공격형    7.084455\n",
      "1         Annuity                 안정형    7.183291\n",
      "2         Annuity                 혼합형    7.000773\n",
      "3  Universal Life                 공격형   10.202496\n",
      "4  Universal Life                 안정형   13.756268\n",
      "5  Universal Life                 혼합형   11.612120\n",
      "6      Whole Life                 공격형   11.987020\n",
      "7      Whole Life                 안정형   12.879141\n",
      "8      Whole Life                 혼합형   11.408574\n",
      "\n",
      "========================================\n",
      "\n"
     ]
    },
    {
     "data": {
      "image/png": "[encoded data removed]",
      "text/plain": [
       "<Figure size 800x600 with 1 Axes>"
      ]
     },
     "metadata": {},
     "output_type": "display_data"
    },
    {
     "name": "stdout",
     "output_type": "stream",
     "text": [
      "=== 그룹별 통계적 유의성 검증 ===\n",
      "\n",
      "--- Universal Life 그룹 검증 ---\n",
      "교차표:\n",
      "churn                      0       1\n",
      "strategy_type_final                 \n",
      "공격형                   187182   21267\n",
      "안정형                   170271   27159\n",
      "혼합형                  1044248  137190\n",
      "P-value: 1.791109303568948e-276\n",
      ">> 결론: 전략 유형에 따른 해지율 차이가 통계적으로 유의미합니다.\n",
      "\n",
      "--- Annuity 그룹 검증 ---\n",
      "교차표:\n",
      "churn                    0     1\n",
      "strategy_type_final             \n",
      "공격형                  17955  1369\n",
      "안정형                   9510   736\n",
      "혼합형                  36093  2717\n",
      "P-value: 0.7961700956618392\n",
      ">> 결론: 전략 유형에 따른 해지율 차이가 유의미하지 않습니다.\n",
      "\n",
      "--- Whole Life 그룹 검증 ---\n",
      "교차표:\n",
      "churn                   0    1\n",
      "strategy_type_final           \n",
      "공격형                  4611  628\n",
      "안정형                  1867  276\n",
      "혼합형                  5063  652\n",
      "P-value: 0.19071230532235606\n",
      ">> 결론: 전략 유형에 따른 해지율 차이가 유의미하지 않습니다.\n"
     ]
    }
   ],
   "source": [
    "# 1. 각 Proxy 그룹 내, 전략 유형별 해지율 계산\n",
    "churn_rate_by_segment = (df.groupby(['policy_proxy_v2', 'strategy_type_final'])['churn']\n",
    "                           .mean()\n",
    "                           .reset_index()\n",
    "                           .rename(columns={'churn': 'churn_rate'}))\n",
    "churn_rate_by_segment['churn_rate'] *= 100\n",
    "\n",
    "print(\"=== 그룹 내 전략 유형별 해지율(%) ===\")\n",
    "print(churn_rate_by_segment)\n",
    "print(\"\\n\" + \"=\"*40 + \"\\n\")\n",
    "\n",
    "\n",
    "# 2. 해지율 그룹별 시각화 (Grouped Bar Chart)\n",
    "plt.figure(figsize=(8, 6))\n",
    "sns.barplot(x='policy_proxy_v2', y='churn_rate', hue='strategy_type_final', \n",
    "            data=churn_rate_by_segment, palette='viridis',\n",
    "            hue_order=['공격형', '혼합형', '안정형'])\n",
    "\n",
    "plt.title('보험 그룹 내 전략 유형별 고객 해지율 비교', fontsize=16, pad=20)\n",
    "plt.xlabel('보험 상품 Proxy', fontsize=12)\n",
    "plt.ylabel('해지율 (%)', fontsize=12)\n",
    "plt.legend(title='전략 유형')\n",
    "plt.show()\n",
    "\n",
    "\n",
    "# 3. 그룹별 통계적 유의성 검증 (카이제곱 검정 반복 수행)\n",
    "print(\"=== 그룹별 통계적 유의성 검증 ===\")\n",
    "for group_name in df['policy_proxy_v2'].unique():\n",
    "    print(f\"\\n--- {group_name} 그룹 검증 ---\")\n",
    "    \n",
    "    # 해당 그룹 데이터 필터링\n",
    "    group_df = df[df['policy_proxy_v2'] == group_name]\n",
    "    \n",
    "    # 교차표 생성\n",
    "    contingency_table = pd.crosstab(group_df['strategy_type_final'], group_df['churn'])\n",
    "    print(\"교차표:\")\n",
    "    print(contingency_table)\n",
    "    \n",
    "    # 카이제곱 검정 실행\n",
    "    chi2, p_value, dof, expected = chi2_contingency(contingency_table)\n",
    "    print(f\"P-value: {p_value}\")\n",
    "    \n",
    "    # 결과 해석\n",
    "    alpha = 0.05\n",
    "    if p_value < alpha:\n",
    "        print(\">> 결론: 전략 유형에 따른 해지율 차이가 통계적으로 유의미합니다.\")\n",
    "    else:\n",
    "        print(\">> 결론: 전략 유형에 따른 해지율 차이가 유의미하지 않습니다.\")"
   ]
  },
  {
   "cell_type": "markdown",
   "metadata": {},
   "source": [
    "통계적으로 유의하지 않은 Annuity와 Whole Life 그룹에서는 우리가 만든 '전략 유형'이 해지를 결정하는 핵심적인 요인은 아님.    \n",
    "이 그룹들의 해지를 예측하려면 다른 변수(예: 실제 투자 수익률, 거시 경제 지표 등)가 훨씬 더 중요할 수 있다는 새로운 가설 세우는 방향으로 가야 할 듯."
   ]
  },
  {
   "cell_type": "code",
   "execution_count": 76,
   "metadata": {},
   "outputs": [],
   "source": [
    "df.to_csv('/Users/zoohunn/Desktop/비어플/비어플[금융]/datasets/include_proxy_v2_strategy_type.csv')"
   ]
  }
 ],
 "metadata": {
  "kernelspec": {
   "display_name": "Python (myenv)",
   "language": "python",
   "name": "myenv"
  },
  "language_info": {
   "codemirror_mode": {
    "name": "ipython",
    "version": 3
   },
   "file_extension": ".py",
   "mimetype": "text/x-python",
   "name": "python",
   "nbconvert_exporter": "python",
   "pygments_lexer": "ipython3",
   "version": "3.11.8"
  }
 },
 "nbformat": 4,
 "nbformat_minor": 2
}
