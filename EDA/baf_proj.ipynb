{
 "cells": [
  {
   "cell_type": "markdown",
   "id": "da113de8",
   "metadata": {},
   "source": [
    "###  데이터 불러오기"
   ]
  },
  {
   "cell_type": "markdown",
   "id": "e996e564",
   "metadata": {},
   "source": [
    "#### 1.GDP"
   ]
  },
  {
   "cell_type": "code",
   "execution_count": 1,
   "id": "24a9a62a",
   "metadata": {},
   "outputs": [
    {
     "name": "stdout",
     "output_type": "stream",
     "text": [
      "  observation_date        GDP\n",
      "0       2005-01-01  12767.286\n",
      "1       2005-04-01  12922.656\n",
      "2       2005-07-01  13142.642\n",
      "3       2005-10-01  13324.204\n",
      "4       2006-01-01   13599.16\n",
      "   observation_date        GDP\n",
      "78       2024-07-01  29374.914\n",
      "79       2024-10-01  29723.864\n",
      "80       2025-01-01  29962.047\n",
      "81       2025-04-01  30353.902\n",
      "82       2025-07-01  30,504.50\n"
     ]
    }
   ],
   "source": [
    "import pandas as pd\n",
    "gdp = pd.read_csv('C:/Users/qkrrl/baf/GDP.csv')\n",
    "print(gdp.head())\n",
    "print(gdp.tail())"
   ]
  },
  {
   "cell_type": "markdown",
   "id": "34206ab6",
   "metadata": {},
   "source": [
    "#### 2.실업률"
   ]
  },
  {
   "cell_type": "code",
   "execution_count": 2,
   "id": "29a56f19",
   "metadata": {},
   "outputs": [
    {
     "name": "stdout",
     "output_type": "stream",
     "text": [
      "  observation_date  UNRATE\n",
      "0       2005-01-01     5.3\n",
      "1       2005-02-01     5.4\n",
      "2       2005-03-01     5.2\n",
      "3       2005-04-01     5.2\n",
      "4       2005-05-01     5.1\n"
     ]
    }
   ],
   "source": [
    "import pandas as pd\n",
    "unrate = pd.read_csv('C:/Users/qkrrl/baf/UNRATE.csv')\n",
    "print(unrate.head())"
   ]
  },
  {
   "cell_type": "markdown",
   "id": "6b9451a6",
   "metadata": {},
   "source": [
    "#### 3. 물가지수"
   ]
  },
  {
   "cell_type": "code",
   "execution_count": 3,
   "id": "566a4183",
   "metadata": {},
   "outputs": [
    {
     "name": "stdout",
     "output_type": "stream",
     "text": [
      "  observation_date  CPIAUCSL\n",
      "0       2005-01-01     191.6\n",
      "1       2005-02-01     192.4\n",
      "2       2005-03-01     193.1\n",
      "3       2005-04-01     193.7\n",
      "4       2005-05-01     193.6\n",
      "    observation_date  CPIAUCSL\n",
      "243       2025-04-01   320.321\n",
      "244       2025-05-01   320.580\n",
      "245       2025-06-01   321.500\n",
      "246       2025-07-01   322.132\n",
      "247       2025-08-01   323.364\n"
     ]
    }
   ],
   "source": [
    "import pandas as pd\n",
    "cpi = pd.read_csv('C:/Users/qkrrl/baf/CPIAUCSL.csv')\n",
    "print(cpi.head())\n",
    "print(cpi.tail())"
   ]
  },
  {
   "cell_type": "markdown",
   "id": "6d647218",
   "metadata": {},
   "source": [
    "#### 4. 금리"
   ]
  },
  {
   "cell_type": "code",
   "execution_count": 4,
   "id": "d3cef834",
   "metadata": {},
   "outputs": [
    {
     "name": "stdout",
     "output_type": "stream",
     "text": [
      "  observation_date  REAINTRATREARAT10Y\n",
      "0       1982-01-01            7.623742\n",
      "1       1982-02-01            7.656648\n",
      "2       1982-03-01            7.128993\n",
      "3       1982-04-01            7.408347\n",
      "4       1982-05-01            7.320041\n",
      "    observation_date  REAINTRATREARAT10Y\n",
      "519       2025-04-01            1.670487\n",
      "520       2025-05-01            1.666143\n",
      "521       2025-06-01            1.869240\n",
      "522       2025-07-01            1.659887\n",
      "523       2025-08-01            1.178415\n",
      "  observation_date  DGS10\n",
      "0       2005-01-03   4.23\n",
      "1       2005-01-04   4.29\n",
      "2       2005-01-05   4.29\n",
      "3       2005-01-06   4.29\n",
      "4       2005-01-07   4.29\n",
      "     observation_date  DGS10\n",
      "5399       2025-09-12   4.06\n",
      "5400       2025-09-15   4.05\n",
      "5401       2025-09-16   4.04\n",
      "5402       2025-09-17   4.06\n",
      "5403       2025-09-18   4.11\n"
     ]
    }
   ],
   "source": [
    "import pandas as pd\n",
    "real_rate = pd.read_csv('C:/Users/qkrrl/baf/REAINTRATREARAT10Y.csv')\n",
    "print(real_rate.head())\n",
    "print(real_rate.tail())\n",
    "\n",
    "dgs10 = pd.read_csv('C:/Users/qkrrl/baf/DGS10.csv')\n",
    "print(dgs10.head())\n",
    "print(dgs10.tail())"
   ]
  },
  {
   "cell_type": "markdown",
   "id": "8ed40ce6",
   "metadata": {},
   "source": [
    "#### 5. 고객데이터"
   ]
  },
  {
   "cell_type": "code",
   "execution_count": 5,
   "id": "7fd335cd",
   "metadata": {},
   "outputs": [
    {
     "name": "stdout",
     "output_type": "stream",
     "text": [
      "   individual_id  curr_ann_amt  days_tenure cust_orig_date date_of_birth  \\\n",
      "0   2.213000e+11    818.877997       1454.0     2018-12-09    1978-06-23   \n",
      "1   2.213001e+11    974.199182       1795.0     2018-01-02    1950-05-30   \n",
      "2   2.213007e+11    967.375112       4818.0     2009-09-23    1967-07-07   \n",
      "3   2.213016e+11    992.409561        130.0     2022-07-25    1969-05-25   \n",
      "4   2.213016e+11    784.633494       5896.0     2006-10-11    1972-09-25   \n",
      "\n",
      "     income  has_children  length_of_residence home_market_value  \\\n",
      "0   22500.0             1                 15.0     50000 - 74999   \n",
      "1   27500.0             0                  2.0     50000 - 74999   \n",
      "2   42500.0             0                 10.0     75000 - 99999   \n",
      "3  125000.0             1                  6.0   175000 - 199999   \n",
      "4   87500.0             1                  4.0   225000 - 249999   \n",
      "\n",
      "   age_in_years  home_owner  college_degree  good_credit           city  \\\n",
      "0            44         1.0             1.0          1.0        Kaufman   \n",
      "1            72         1.0             0.0          0.0  Grand Prairie   \n",
      "2            55         1.0             0.0          0.0         Dallas   \n",
      "3            53         1.0             0.0          1.0      Arlington   \n",
      "4            50         1.0             1.0          1.0     Fort Worth   \n",
      "\n",
      "    county  cust_orig_year cust_orig_month  churn  \n",
      "0  Kaufman            2018         2018-12      0  \n",
      "1   Dallas            2018         2018-01      0  \n",
      "2   Dallas            2009         2009-09      0  \n",
      "3  Tarrant            2022         2022-07      1  \n",
      "4  Tarrant            2006         2006-10      0  \n"
     ]
    }
   ],
   "source": [
    "import pandas as pd\n",
    "cl_data = pd.read_csv('C:/Users/qkrrl/baf/final_basic_autoinsurance_churn.csv')\n",
    "print(cl_data.head())"
   ]
  },
  {
   "cell_type": "code",
   "execution_count": 6,
   "id": "ecec80e6",
   "metadata": {},
   "outputs": [
    {
     "name": "stdout",
     "output_type": "stream",
     "text": [
      "데이터 범위: 2005-09-11 ~ 2022-11-12\n"
     ]
    }
   ],
   "source": [
    "## 데이터 범위확인 -> 이후에 분석시 인덱싱해야할 듯\n",
    "import pandas as pd\n",
    "cl_data['cust_orig_date'] = pd.to_datetime(cl_data['cust_orig_date'])\n",
    "\n",
    "# cust_orig_data 에서 가장 오래된 날짜와 최근 날짜 출력\n",
    "start_date = cl_data['cust_orig_date'].min()\n",
    "end_date = cl_data['cust_orig_date'].max()\n",
    "\n",
    "print(\"데이터 범위:\", start_date.date(), \"~\", end_date.date())"
   ]
  },
  {
   "cell_type": "code",
   "execution_count": 7,
   "id": "453a8a19",
   "metadata": {},
   "outputs": [
    {
     "name": "stdout",
     "output_type": "stream",
     "text": [
      "Index(['individual_id', 'curr_ann_amt', 'days_tenure', 'cust_orig_date',\n",
      "       'date_of_birth', 'income', 'has_children', 'length_of_residence',\n",
      "       'home_market_value', 'age_in_years', 'home_owner', 'college_degree',\n",
      "       'good_credit', 'city', 'county', 'cust_orig_year', 'cust_orig_month',\n",
      "       'churn'],\n",
      "      dtype='object')\n",
      "<class 'pandas.core.frame.DataFrame'>\n",
      "RangeIndex: 1668794 entries, 0 to 1668793\n",
      "Data columns (total 18 columns):\n",
      " #   Column               Non-Null Count    Dtype         \n",
      "---  ------               --------------    -----         \n",
      " 0   individual_id        1668794 non-null  float64       \n",
      " 1   curr_ann_amt         1668794 non-null  float64       \n",
      " 2   days_tenure          1668794 non-null  float64       \n",
      " 3   cust_orig_date       1668794 non-null  datetime64[ns]\n",
      " 4   date_of_birth        1668794 non-null  object        \n",
      " 5   income               1668794 non-null  float64       \n",
      " 6   has_children         1668794 non-null  int64         \n",
      " 7   length_of_residence  1668794 non-null  float64       \n",
      " 8   home_market_value    1668794 non-null  object        \n",
      " 9   age_in_years         1668794 non-null  int64         \n",
      " 10  home_owner           1668794 non-null  float64       \n",
      " 11  college_degree       1668794 non-null  float64       \n",
      " 12  good_credit          1668794 non-null  float64       \n",
      " 13  city                 1668794 non-null  object        \n",
      " 14  county               1668794 non-null  object        \n",
      " 15  cust_orig_year       1668794 non-null  int64         \n",
      " 16  cust_orig_month      1668794 non-null  object        \n",
      " 17  churn                1668794 non-null  int64         \n",
      "dtypes: datetime64[ns](1), float64(8), int64(4), object(5)\n",
      "memory usage: 229.2+ MB\n",
      "None\n"
     ]
    }
   ],
   "source": [
    "## 변수 확인\n",
    "print(cl_data.columns)\n",
    "## 변수 의미\n",
    "print(cl_data.info())"
   ]
  },
  {
   "cell_type": "markdown",
   "id": "3a027626",
   "metadata": {},
   "source": [
    "### 변수\n",
    "1. 연간 보험료\n",
    "2. 가입기간\n",
    "3. 가입일\n",
    "4. 생년월일\n",
    "5. 수입\n",
    "6. 자녀유무\n",
    "7. 거주기간\n",
    "8. 주택가\n",
    "9. 나이\n",
    "10. 주택소유여부\n",
    "11. 학위\n",
    "12. 신용도\n",
    "13. 도시"
   ]
  },
  {
   "cell_type": "markdown",
   "id": "04ec0894",
   "metadata": {},
   "source": [
    "#### 6. S&P500\n",
    "    - 터미널에 pip install yfinance 또는 아래와 같이 입력"
   ]
  },
  {
   "cell_type": "code",
   "execution_count": 8,
   "id": "cc820b59",
   "metadata": {},
   "outputs": [],
   "source": [
    "# !pip install yfinance"
   ]
  },
  {
   "cell_type": "code",
   "execution_count": 9,
   "id": "2acda085",
   "metadata": {},
   "outputs": [
    {
     "name": "stderr",
     "output_type": "stream",
     "text": [
      "C:\\Users\\qkrrl\\AppData\\Local\\Temp\\ipykernel_12012\\2280022811.py:2: FutureWarning: YF.download() has changed argument auto_adjust default to True\n",
      "  sp500_data = yf.download('^GSPC', start='2005-01-01')\n",
      "[*********************100%***********************]  1 of 1 completed"
     ]
    },
    {
     "name": "stdout",
     "output_type": "stream",
     "text": [
      "Price             Close         High          Low         Open      Volume\n",
      "Ticker            ^GSPC        ^GSPC        ^GSPC        ^GSPC       ^GSPC\n",
      "Date                                                                      \n",
      "2005-01-03  1202.079956  1217.800049  1200.319946  1211.920044  1510800000\n",
      "2005-01-04  1188.050049  1205.839966  1185.390015  1202.079956  1721000000\n",
      "2005-01-05  1183.739990  1192.729980  1183.719971  1188.050049  1738900000\n",
      "2005-01-06  1187.890015  1191.630005  1183.270020  1183.739990  1569100000\n",
      "2005-01-07  1186.189941  1192.199951  1182.160034  1187.890015  1477900000\n",
      "Price             Close         High          Low         Open      Volume\n",
      "Ticker            ^GSPC        ^GSPC        ^GSPC        ^GSPC       ^GSPC\n",
      "Date                                                                      \n",
      "2025-09-18  6631.959961  6656.799805  6611.890137  6626.850098  5292400000\n",
      "2025-09-19  6664.359863  6671.819824  6630.310059  6647.109863  9125960000\n",
      "2025-09-22  6693.750000  6698.879883  6648.069824  6654.279785  5642620000\n",
      "2025-09-23  6656.919922  6699.520020  6645.580078  6692.439941  5633620000\n",
      "2025-09-24  6637.970215  6672.660156  6621.759766  6669.790039  5459180000\n"
     ]
    },
    {
     "name": "stderr",
     "output_type": "stream",
     "text": [
      "\n"
     ]
    }
   ],
   "source": [
    "import yfinance as yf\n",
    "sp500_data = yf.download('^GSPC', start='2005-01-01')\n",
    "print(sp500_data.head())\n",
    "print(sp500_data.tail())"
   ]
  },
  {
   "cell_type": "code",
   "execution_count": 10,
   "id": "69b8c354",
   "metadata": {},
   "outputs": [
    {
     "name": "stdout",
     "output_type": "stream",
     "text": [
      "<class 'pandas.core.frame.DataFrame'>\n",
      "DatetimeIndex: 5215 entries, 2005-01-03 to 2025-09-24\n",
      "Data columns (total 5 columns):\n",
      " #   Column           Non-Null Count  Dtype  \n",
      "---  ------           --------------  -----  \n",
      " 0   (Close, ^GSPC)   5215 non-null   float64\n",
      " 1   (High, ^GSPC)    5215 non-null   float64\n",
      " 2   (Low, ^GSPC)     5215 non-null   float64\n",
      " 3   (Open, ^GSPC)    5215 non-null   float64\n",
      " 4   (Volume, ^GSPC)  5215 non-null   int64  \n",
      "dtypes: float64(4), int64(1)\n",
      "memory usage: 244.5 KB\n",
      "None\n",
      "MultiIndex([( 'Close', '^GSPC'),\n",
      "            (  'High', '^GSPC'),\n",
      "            (   'Low', '^GSPC'),\n",
      "            (  'Open', '^GSPC'),\n",
      "            ('Volume', '^GSPC')],\n",
      "           names=['Price', 'Ticker'])\n"
     ]
    }
   ],
   "source": [
    "print(sp500_data.info())\n",
    "print(sp500_data.columns)"
   ]
  },
  {
   "cell_type": "markdown",
   "id": "7f1bcec3",
   "metadata": {},
   "source": [
    "### 미리 인덱스 -> 열로 변환"
   ]
  },
  {
   "cell_type": "code",
   "execution_count": 11,
   "id": "4f153180",
   "metadata": {},
   "outputs": [],
   "source": [
    "sp500_data = sp500_data.reset_index()\n",
    "sp500_data['Date'] = pd.to_datetime(sp500_data['Date'])\n",
    "sp500_data = sp500_data.sort_values('Date')"
   ]
  },
  {
   "cell_type": "markdown",
   "id": "cdde1ed4",
   "metadata": {},
   "source": [
    "## 모델링 이전 고려할 사항\n",
    "1. 데이터 매핑\n",
    "2. 거시경제변수의 변동에 따른 반응시간/지속시간 반영\n",
    " - GDP (분기별로 적용) -> 7~9월은 데이터가 없어서 4월 데이터로 갈음\n",
    " - 실업률 (1개월내) : 증가시하락\n",
    " - 물가지수 (1개월내) : 증가시 하락\n",
    " - 금리 (1개월내,다른의견도 존재하므로 이후 우리가 검증) : 증가시 하락\n",
    " - s&p500 : 증가시 증가\n",
    "3. 금리 -> 시장금리로 변경 (논문에 의한 검증은 실질금리보다는 시장금리이며, 시장금리는 물가를 반영하므로 다중공선성 우려)\n",
    "4. 일별, 월별, 분기별 데이터 합치기"
   ]
  },
  {
   "cell_type": "markdown",
   "id": "b70e5fb3",
   "metadata": {},
   "source": [
    "## 데이터 합치기\n",
    "- cust_orig_date에서 days_tenure 수 만큼 일 수를 더한 날짜에 해당하는 시점이전 달, 금리의 경우는 해당 직전분기에 해당하는 value값을 지금 추가하는 거시경제변수를 열로 추가하여 결합"
   ]
  },
  {
   "cell_type": "markdown",
   "id": "f19eee38",
   "metadata": {},
   "source": [
    "### 1. 기준일 계산"
   ]
  },
  {
   "cell_type": "code",
   "execution_count": 13,
   "id": "a5a88191",
   "metadata": {},
   "outputs": [],
   "source": [
    "import pandas as pd\n",
    "cl_data['cust_orig_date'] = pd.to_datetime(cl_data['cust_orig_date'])\n",
    "cl_data['end_date'] = cl_data['cust_orig_date'] + pd.to_timedelta(cl_data['days_tenure'], unit='D')"
   ]
  },
  {
   "cell_type": "markdown",
   "id": "be92af1c",
   "metadata": {},
   "source": [
    "### 2. 외부 데이터"
   ]
  },
  {
   "cell_type": "code",
   "execution_count": 14,
   "id": "4afa9eef",
   "metadata": {},
   "outputs": [],
   "source": [
    "gdp['observation_date'] = pd.to_datetime(gdp['observation_date'])\n",
    "unrate['observation_date'] = pd.to_datetime(unrate['observation_date'])\n",
    "cpi['observation_date'] = pd.to_datetime(cpi['observation_date'])\n",
    "dgs10['observation_date'] = pd.to_datetime(dgs10['observation_date'])\n",
    "sp500_data['Date'] = pd.to_datetime(sp500_data['Date'])\n",
    "\n",
    "# 정렬\n",
    "gdp = gdp.sort_values('observation_date')\n",
    "unrate = unrate.sort_values('observation_date')\n",
    "cpi = cpi.sort_values('observation_date')\n",
    "dgs10 = dgs10.sort_values('observation_date')\n",
    "sp500_data = sp500_data.sort_values('Date')"
   ]
  },
  {
   "cell_type": "markdown",
   "id": "97e25669",
   "metadata": {},
   "source": [
    "### 3. 병합하기\n",
    "- 날짜 맞추고 정렬한 이후, value값을 넣는 과정"
   ]
  },
  {
   "cell_type": "code",
   "execution_count": 15,
   "id": "ac0e4e5b",
   "metadata": {},
   "outputs": [],
   "source": [
    "# 열 이름 평탄화 (MultiIndex → 일반 컬럼)\n",
    "sp500_data.columns = sp500_data.columns.get_level_values(0)\n",
    "\n",
    "# 인덱스 초기화\n",
    "sp500_data = sp500_data.reset_index()\n",
    "\n",
    "# 열 이름 통일 및 정렬\n",
    "sp500_data = sp500_data.rename(columns={'Date': 'sp500_date', 'Close': 'sp500'})\n",
    "sp500_data = sp500_data.sort_values('sp500_date')\n"
   ]
  },
  {
   "cell_type": "code",
   "execution_count": 16,
   "id": "94aa7b34",
   "metadata": {},
   "outputs": [
    {
     "name": "stdout",
     "output_type": "stream",
     "text": [
      "   individual_id  curr_ann_amt  days_tenure cust_orig_date date_of_birth  \\\n",
      "0   2.213000e+11    818.877997       1454.0     2018-12-09    1978-06-23   \n",
      "1   2.213018e+11    916.827301       6291.0     2005-09-11    1963-07-29   \n",
      "2   2.213000e+11    840.581478       6291.0     2005-09-11    1977-06-23   \n",
      "3   2.213031e+11    604.383275       6291.0     2005-09-11    1974-09-24   \n",
      "4   2.213024e+11    444.727343       6291.0     2005-09-11    1934-02-01   \n",
      "\n",
      "     income  has_children  length_of_residence home_market_value  \\\n",
      "0   22500.0             1                 15.0     50000 - 74999   \n",
      "1   57500.0             0                 15.0     75000 - 99999   \n",
      "2  250000.0             1                  3.0   175000 - 199999   \n",
      "3   70000.0             1                  6.0   100000 - 124999   \n",
      "4   70000.0             0                  1.0   175000 - 199999   \n",
      "\n",
      "   age_in_years  ...   gdp_date        GDP  unrate_date UNRATE   cpi_date  \\\n",
      "0            44  ... 2022-10-01  26734.277   2022-12-01    3.5 2022-12-01   \n",
      "1            59  ... 2022-10-01  26734.277   2022-12-01    3.5 2022-12-01   \n",
      "2            45  ... 2022-10-01  26734.277   2022-12-01    3.5 2022-12-01   \n",
      "3            48  ... 2022-10-01  26734.277   2022-12-01    3.5 2022-12-01   \n",
      "4            89  ... 2022-10-01  26734.277   2022-12-01    3.5 2022-12-01   \n",
      "\n",
      "   CPIAUCSL dgs10_date  DGS10 sp500_date        sp500  \n",
      "0   298.808 2022-12-02   3.51 2022-12-02  4071.699951  \n",
      "1   298.808 2022-12-02   3.51 2022-12-02  4071.699951  \n",
      "2   298.808 2022-12-02   3.51 2022-12-02  4071.699951  \n",
      "3   298.808 2022-12-02   3.51 2022-12-02  4071.699951  \n",
      "4   298.808 2022-12-02   3.51 2022-12-02  4071.699951  \n",
      "\n",
      "[5 rows x 29 columns]\n"
     ]
    }
   ],
   "source": [
    "# 고객 데이터 정렬\n",
    "cl_data = cl_data.sort_values('end_date')\n",
    "\n",
    "#  GDP (분기별)\n",
    "gdp = gdp.rename(columns={'observation_date': 'gdp_date'})\n",
    "cl_data = pd.merge_asof(\n",
    "    cl_data,\n",
    "    gdp[['gdp_date', 'GDP']].sort_values('gdp_date'),\n",
    "    left_on='end_date',\n",
    "    right_on='gdp_date',\n",
    "    direction='backward'\n",
    ")\n",
    "\n",
    "#  실업률 (월별)\n",
    "unrate = unrate.rename(columns={'observation_date': 'unrate_date'})\n",
    "cl_data = pd.merge_asof(\n",
    "    cl_data,\n",
    "    unrate[['unrate_date', 'UNRATE']].sort_values('unrate_date'),\n",
    "    left_on='end_date',\n",
    "    right_on='unrate_date',\n",
    "    direction='backward'\n",
    ")\n",
    "\n",
    "#  물가지수 (월별)\n",
    "cpi = cpi.rename(columns={'observation_date': 'cpi_date'})\n",
    "cl_data = pd.merge_asof(\n",
    "    cl_data,\n",
    "    cpi[['cpi_date', 'CPIAUCSL']].sort_values('cpi_date'),\n",
    "    left_on='end_date',\n",
    "    right_on='cpi_date',\n",
    "    direction='backward'\n",
    ")\n",
    "\n",
    "#  시장금리 (일별)\n",
    "dgs10 = dgs10.rename(columns={'observation_date': 'dgs10_date'})\n",
    "cl_data = pd.merge_asof(\n",
    "    cl_data,\n",
    "    dgs10[['dgs10_date', 'DGS10']].sort_values('dgs10_date'),\n",
    "    left_on='end_date',\n",
    "    right_on='dgs10_date',\n",
    "    direction='backward'\n",
    ")\n",
    "\n",
    "#  S&P 500 (일별)\n",
    "sp500_data = sp500_data.rename(columns={'Date': 'sp500_date', 'Close': 'sp500'})\n",
    "cl_data = pd.merge_asof(\n",
    "    cl_data,\n",
    "    sp500_data[['sp500_date', 'sp500']].sort_values('sp500_date'),\n",
    "    left_on='end_date',\n",
    "    right_on='sp500_date',\n",
    "    direction='backward'\n",
    ")\n",
    "\n",
    "\n",
    "print(cl_data.head())\n"
   ]
  },
  {
   "cell_type": "code",
   "execution_count": 17,
   "id": "68e98c5e",
   "metadata": {},
   "outputs": [],
   "source": [
    "cl_data.to_csv('C:/Users/qkrrl/baf/merged_findata.csv', index=False, encoding='utf-8-sig')"
   ]
  }
 ],
 "metadata": {
  "kernelspec": {
   "display_name": "base",
   "language": "python",
   "name": "python3"
  },
  "language_info": {
   "codemirror_mode": {
    "name": "ipython",
    "version": 3
   },
   "file_extension": ".py",
   "mimetype": "text/x-python",
   "name": "python",
   "nbconvert_exporter": "python",
   "pygments_lexer": "ipython3",
   "version": "3.13.5"
  }
 },
 "nbformat": 4,
 "nbformat_minor": 5
}
